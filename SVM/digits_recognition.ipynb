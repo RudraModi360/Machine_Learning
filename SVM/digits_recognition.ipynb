{
 "cells": [
  {
   "cell_type": "code",
   "execution_count": 7,
   "id": "c7c6f56c-3843-4c27-ac78-6fd981b392be",
   "metadata": {},
   "outputs": [],
   "source": [
    "from sklearn.model_selection import train_test_split\n",
    "import pandas as pd\n",
    "import numpy as np\n",
    "from sklearn.svm import SVC\n",
    "from sklearn.datasets import load_digits"
   ]
  },
  {
   "cell_type": "code",
   "execution_count": 9,
   "id": "d7ea9ca0-ab0f-4301-84df-f89d85af79ff",
   "metadata": {},
   "outputs": [
    {
     "data": {
      "text/plain": [
       "['DESCR', 'data', 'feature_names', 'frame', 'images', 'target', 'target_names']"
      ]
     },
     "execution_count": 9,
     "metadata": {},
     "output_type": "execute_result"
    }
   ],
   "source": [
    "digits=load_digits()\n",
    "dir(digits)"
   ]
  },
  {
   "cell_type": "code",
   "execution_count": 33,
   "id": "a8f84972-b2ac-4866-8f09-a4acb65b6b8a",
   "metadata": {},
   "outputs": [
    {
     "data": {
      "text/plain": [
       "array([[ 0.,  0.,  6., ...,  0.,  0.,  0.],\n",
       "       [ 0.,  0.,  0., ..., 10.,  2.,  0.],\n",
       "       [ 0.,  0.,  0., ..., 12.,  0.,  0.],\n",
       "       ...,\n",
       "       [ 0.,  0.,  1., ..., 12.,  1.,  0.],\n",
       "       [ 0.,  0.,  0., ...,  3.,  0.,  0.],\n",
       "       [ 0.,  0.,  1., ..., 16., 11.,  0.]])"
      ]
     },
     "execution_count": 33,
     "metadata": {},
     "output_type": "execute_result"
    }
   ],
   "source": [
    "n_samples = len(digits.images)\n",
    "data = digits.images.reshape((n_samples, -1))\n",
    "X_train,X_test,y_train,y_test=train_test_split(data,digits.target)\n",
    "X_train"
   ]
  },
  {
   "cell_type": "code",
   "execution_count": 34,
   "id": "e315fd7a-2a5f-40c3-a834-2a80d7975391",
   "metadata": {},
   "outputs": [
    {
     "data": {
      "text/html": [
       "<style>#sk-container-id-1 {color: black;}#sk-container-id-1 pre{padding: 0;}#sk-container-id-1 div.sk-toggleable {background-color: white;}#sk-container-id-1 label.sk-toggleable__label {cursor: pointer;display: block;width: 100%;margin-bottom: 0;padding: 0.3em;box-sizing: border-box;text-align: center;}#sk-container-id-1 label.sk-toggleable__label-arrow:before {content: \"▸\";float: left;margin-right: 0.25em;color: #696969;}#sk-container-id-1 label.sk-toggleable__label-arrow:hover:before {color: black;}#sk-container-id-1 div.sk-estimator:hover label.sk-toggleable__label-arrow:before {color: black;}#sk-container-id-1 div.sk-toggleable__content {max-height: 0;max-width: 0;overflow: hidden;text-align: left;background-color: #f0f8ff;}#sk-container-id-1 div.sk-toggleable__content pre {margin: 0.2em;color: black;border-radius: 0.25em;background-color: #f0f8ff;}#sk-container-id-1 input.sk-toggleable__control:checked~div.sk-toggleable__content {max-height: 200px;max-width: 100%;overflow: auto;}#sk-container-id-1 input.sk-toggleable__control:checked~label.sk-toggleable__label-arrow:before {content: \"▾\";}#sk-container-id-1 div.sk-estimator input.sk-toggleable__control:checked~label.sk-toggleable__label {background-color: #d4ebff;}#sk-container-id-1 div.sk-label input.sk-toggleable__control:checked~label.sk-toggleable__label {background-color: #d4ebff;}#sk-container-id-1 input.sk-hidden--visually {border: 0;clip: rect(1px 1px 1px 1px);clip: rect(1px, 1px, 1px, 1px);height: 1px;margin: -1px;overflow: hidden;padding: 0;position: absolute;width: 1px;}#sk-container-id-1 div.sk-estimator {font-family: monospace;background-color: #f0f8ff;border: 1px dotted black;border-radius: 0.25em;box-sizing: border-box;margin-bottom: 0.5em;}#sk-container-id-1 div.sk-estimator:hover {background-color: #d4ebff;}#sk-container-id-1 div.sk-parallel-item::after {content: \"\";width: 100%;border-bottom: 1px solid gray;flex-grow: 1;}#sk-container-id-1 div.sk-label:hover label.sk-toggleable__label {background-color: #d4ebff;}#sk-container-id-1 div.sk-serial::before {content: \"\";position: absolute;border-left: 1px solid gray;box-sizing: border-box;top: 0;bottom: 0;left: 50%;z-index: 0;}#sk-container-id-1 div.sk-serial {display: flex;flex-direction: column;align-items: center;background-color: white;padding-right: 0.2em;padding-left: 0.2em;position: relative;}#sk-container-id-1 div.sk-item {position: relative;z-index: 1;}#sk-container-id-1 div.sk-parallel {display: flex;align-items: stretch;justify-content: center;background-color: white;position: relative;}#sk-container-id-1 div.sk-item::before, #sk-container-id-1 div.sk-parallel-item::before {content: \"\";position: absolute;border-left: 1px solid gray;box-sizing: border-box;top: 0;bottom: 0;left: 50%;z-index: -1;}#sk-container-id-1 div.sk-parallel-item {display: flex;flex-direction: column;z-index: 1;position: relative;background-color: white;}#sk-container-id-1 div.sk-parallel-item:first-child::after {align-self: flex-end;width: 50%;}#sk-container-id-1 div.sk-parallel-item:last-child::after {align-self: flex-start;width: 50%;}#sk-container-id-1 div.sk-parallel-item:only-child::after {width: 0;}#sk-container-id-1 div.sk-dashed-wrapped {border: 1px dashed gray;margin: 0 0.4em 0.5em 0.4em;box-sizing: border-box;padding-bottom: 0.4em;background-color: white;}#sk-container-id-1 div.sk-label label {font-family: monospace;font-weight: bold;display: inline-block;line-height: 1.2em;}#sk-container-id-1 div.sk-label-container {text-align: center;}#sk-container-id-1 div.sk-container {/* jupyter's `normalize.less` sets `[hidden] { display: none; }` but bootstrap.min.css set `[hidden] { display: none !important; }` so we also need the `!important` here to be able to override the default hidden behavior on the sphinx rendered scikit-learn.org. See: https://github.com/scikit-learn/scikit-learn/issues/21755 */display: inline-block !important;position: relative;}#sk-container-id-1 div.sk-text-repr-fallback {display: none;}</style><div id=\"sk-container-id-1\" class=\"sk-top-container\"><div class=\"sk-text-repr-fallback\"><pre>SVC()</pre><b>In a Jupyter environment, please rerun this cell to show the HTML representation or trust the notebook. <br />On GitHub, the HTML representation is unable to render, please try loading this page with nbviewer.org.</b></div><div class=\"sk-container\" hidden><div class=\"sk-item\"><div class=\"sk-estimator sk-toggleable\"><input class=\"sk-toggleable__control sk-hidden--visually\" id=\"sk-estimator-id-1\" type=\"checkbox\" checked><label for=\"sk-estimator-id-1\" class=\"sk-toggleable__label sk-toggleable__label-arrow\">SVC</label><div class=\"sk-toggleable__content\"><pre>SVC()</pre></div></div></div></div></div>"
      ],
      "text/plain": [
       "SVC()"
      ]
     },
     "execution_count": 34,
     "metadata": {},
     "output_type": "execute_result"
    }
   ],
   "source": [
    "model=SVC()\n",
    "model.fit(X_train,y_train)"
   ]
  },
  {
   "cell_type": "code",
   "execution_count": 35,
   "id": "2c1b8a48-b04d-4ec9-8f79-a3966de79359",
   "metadata": {},
   "outputs": [
    {
     "data": {
      "text/plain": [
       "array([7, 1, 2, 0, 6, 7, 6, 0, 7, 3, 7, 5, 9, 9, 4, 3, 4, 7, 7, 2, 3, 3,\n",
       "       0, 4, 3, 4, 5, 6, 8, 3, 8, 5, 4, 9, 9, 4, 5, 3, 5, 6, 3, 5, 6, 6,\n",
       "       8, 3, 8, 7, 3, 5, 9, 0, 9, 9, 4, 8, 5, 9, 1, 7, 1, 8, 0, 7, 2, 1,\n",
       "       1, 1, 9, 9, 8, 1, 3, 0, 5, 1, 8, 5, 4, 3, 6, 6, 2, 1, 5, 8, 4, 9,\n",
       "       9, 4, 0, 9, 1, 1, 0, 6, 7, 6, 7, 4, 5, 4, 2, 9, 6, 4, 2, 6, 6, 2,\n",
       "       7, 3, 2, 6, 7, 3, 9, 2, 6, 0, 0, 1, 3, 4, 1, 0, 2, 5, 8, 1, 8, 5,\n",
       "       4, 2, 9, 3, 2, 3, 9, 1, 0, 0, 4, 5, 9, 4, 7, 1, 7, 1, 8, 1, 4, 5,\n",
       "       9, 5, 5, 2, 8, 7, 5, 5, 3, 9, 2, 7, 3, 7, 1, 4, 3, 1, 2, 1, 4, 3,\n",
       "       6, 3, 6, 6, 4, 9, 2, 9, 3, 9, 4, 6, 2, 1, 7, 2, 8, 2, 5, 8, 9, 5,\n",
       "       4, 0, 2, 5, 0, 1, 2, 0, 2, 9, 7, 0, 8, 7, 1, 6, 1, 1, 3, 2, 8, 6,\n",
       "       3, 7, 5, 3, 4, 8, 1, 5, 3, 1, 4, 0, 0, 5, 3, 0, 9, 3, 0, 1, 7, 7,\n",
       "       8, 5, 5, 1, 6, 5, 9, 3, 1, 2, 7, 8, 1, 4, 7, 8, 0, 1, 3, 8, 6, 1,\n",
       "       1, 9, 7, 2, 1, 6, 0, 8, 2, 7, 3, 5, 0, 3, 6, 3, 0, 4, 7, 0, 8, 2,\n",
       "       6, 4, 1, 9, 3, 5, 6, 4, 3, 9, 7, 8, 5, 0, 3, 4, 1, 7, 5, 9, 4, 7,\n",
       "       0, 0, 2, 6, 9, 9, 4, 4, 7, 5, 6, 0, 5, 4, 1, 9, 4, 8, 9, 2, 7, 1,\n",
       "       3, 2, 1, 1, 2, 4, 1, 0, 3, 5, 0, 4, 0, 1, 4, 9, 9, 5, 4, 1, 7, 1,\n",
       "       7, 0, 2, 6, 9, 2, 6, 6, 6, 7, 6, 4, 8, 7, 7, 4, 2, 6, 5, 7, 7, 5,\n",
       "       3, 3, 8, 6, 3, 3, 4, 8, 9, 3, 9, 3, 5, 8, 9, 7, 5, 0, 9, 9, 3, 1,\n",
       "       8, 8, 3, 0, 0, 7, 9, 3, 4, 1, 5, 1, 2, 8, 9, 2, 6, 2, 7, 5, 9, 0,\n",
       "       0, 8, 6, 5, 8, 7, 9, 6, 5, 7, 4, 5, 7, 8, 3, 5, 6, 1, 7, 6, 7, 5,\n",
       "       2, 6, 5, 8, 9, 5, 1, 0, 1, 8])"
      ]
     },
     "execution_count": 35,
     "metadata": {},
     "output_type": "execute_result"
    }
   ],
   "source": [
    "model.predict(X_test)"
   ]
  },
  {
   "cell_type": "code",
   "execution_count": 37,
   "id": "09256303-68b5-4594-bbb1-ecb847d07f56",
   "metadata": {},
   "outputs": [
    {
     "data": {
      "text/plain": [
       "0.9822222222222222"
      ]
     },
     "execution_count": 37,
     "metadata": {},
     "output_type": "execute_result"
    }
   ],
   "source": [
    "model.score(X_test,y_test)"
   ]
  },
  {
   "cell_type": "code",
   "execution_count": 39,
   "id": "11aaaa6d-ae9f-4b9b-8de9-649e83d063c0",
   "metadata": {},
   "outputs": [
    {
     "data": {
      "text/plain": [
       "<matplotlib.image.AxesImage at 0x216666ba610>"
      ]
     },
     "execution_count": 39,
     "metadata": {},
     "output_type": "execute_result"
    },
    {
     "data": {
      "text/plain": [
       "<Figure size 640x480 with 0 Axes>"
      ]
     },
     "metadata": {},
     "output_type": "display_data"
    },
    {
     "data": {
      "image/png": "[encoded data removed]",
      "text/plain": [
       "<Figure size 480x480 with 1 Axes>"
      ]
     },
     "metadata": {},
     "output_type": "display_data"
    }
   ],
   "source": [
    "import matplotlib.pyplot as plt\n",
    "plt.gray()\n",
    "plt.matshow(digits.images[0])"
   ]
  }
 ],
 "metadata": {
  "kernelspec": {
   "display_name": "Python 3 (ipykernel)",
   "language": "python",
   "name": "python3"
  },
  "language_info": {
   "codemirror_mode": {
    "name": "ipython",
    "version": 3
   },
   "file_extension": ".py",
   "mimetype": "text/x-python",
   "name": "python",
   "nbconvert_exporter": "python",
   "pygments_lexer": "ipython3",
   "version": "3.11.4"
  }
 },
 "nbformat": 4,
 "nbformat_minor": 5
}
